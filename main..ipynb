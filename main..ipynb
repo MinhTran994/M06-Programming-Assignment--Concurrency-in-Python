{
 "cells": [
  {
   "cell_type": "markdown",
   "metadata": {},
   "source": [
    "13.1 Write the current date as a string to the text file today.txt"
   ]
  },
  {
   "cell_type": "code",
   "execution_count": 2,
   "metadata": {},
   "outputs": [],
   "source": [
    "import time, datetime\n",
    "current_date = datetime.date.today().strftime('%Y-%m-%d')\n",
    "with open('today.txt', 'w') as file:\n",
    "    file.write(current_date)"
   ]
  },
  {
   "cell_type": "markdown",
   "metadata": {},
   "source": [
    "13.2 Read the text file today.txt into the string today_string"
   ]
  },
  {
   "cell_type": "code",
   "execution_count": 3,
   "metadata": {},
   "outputs": [],
   "source": [
    "with open('today.txt', 'r') as file:\n",
    "    today_string = file.read().strip()"
   ]
  },
  {
   "cell_type": "markdown",
   "metadata": {},
   "source": [
    "13.3 Parse the date from today_string."
   ]
  },
  {
   "cell_type": "code",
   "execution_count": 7,
   "metadata": {},
   "outputs": [
    {
     "name": "stdout",
     "output_type": "stream",
     "text": [
      "2024-07-14\n"
     ]
    }
   ],
   "source": [
    "from datetime import date, datetime\n",
    "parsed_date = datetime.strptime(today_string, '%Y-%m-%d').date()\n",
    "print(parsed_date)"
   ]
  },
  {
   "cell_type": "markdown",
   "metadata": {},
   "source": [
    "15.1 Use multiprocessing to create three separate processes. Make each one wait a random number of seconds between zero and one, print the current time, and then exit.\n"
   ]
  },
  {
   "cell_type": "code",
   "execution_count": 24,
   "metadata": {},
   "outputs": [
    {
     "name": "stdout",
     "output_type": "stream",
     "text": [
      "Waiting for 0.6206768224803073s\n",
      "Current Time = 08:32:14\n",
      "Waiting for 0.3884675706561387s\n",
      "Current Time = 08:32:14\n",
      "Waiting for 0.6376505638416625s\n",
      "Current Time = 08:32:15\n"
     ]
    }
   ],
   "source": [
    "import multiprocessing\n",
    "import datetime\n",
    "import time\n",
    "import random\n",
    "def print_time():\n",
    "    wait_time=random.random()\n",
    "    print(f\"Waiting for {wait_time}s\") \n",
    "    time.sleep(wait_time) \n",
    "    now = datetime.datetime.now() \n",
    "    current_time = now.strftime(\"%H:%M:%S\") \n",
    "    print(\"Current Time =\", current_time)\n",
    "if __name__ == \"__main__\":\n",
    "        pro1 = multiprocessing.Process(target=print_time())\n",
    "        pro2 = multiprocessing.Process(target=print_time())\n",
    "        pro3 = multiprocessing.Process(target=print_time())\n",
    "        pro1.start()\n",
    "        pro2.start()\n",
    "        pro3.start()\n",
    "        pro1.join()\n",
    "        pro2.join()\n",
    "        pro3.join()"
   ]
  }
 ],
 "metadata": {
  "kernelspec": {
   "display_name": "Python 3",
   "language": "python",
   "name": "python3"
  },
  "language_info": {
   "codemirror_mode": {
    "name": "ipython",
    "version": 3
   },
   "file_extension": ".py",
   "mimetype": "text/x-python",
   "name": "python",
   "nbconvert_exporter": "python",
   "pygments_lexer": "ipython3",
   "version": "3.12.3"
  }
 },
 "nbformat": 4,
 "nbformat_minor": 2
}
